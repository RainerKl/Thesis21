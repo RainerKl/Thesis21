{
 "metadata": {
  "language_info": {
   "codemirror_mode": {
    "name": "ipython",
    "version": 3
   },
   "file_extension": ".py",
   "mimetype": "text/x-python",
   "name": "python",
   "nbconvert_exporter": "python",
   "pygments_lexer": "ipython3",
   "version": "3.8.5"
  },
  "orig_nbformat": 2,
  "kernelspec": {
   "name": "python3",
   "display_name": "Python 3.8.5 32-bit",
   "metadata": {
    "interpreter": {
     "hash": "0a7d1dd6c2ca8aa2f6b8c77e5b98535f702a4c5a801df20500bdb2065ffe99d1"
    }
   }
  }
 },
 "nbformat": 4,
 "nbformat_minor": 2,
 "cells": [
  {
   "source": [
    "import numpy as nm\n",
    "import pandas as pd\n",
    "import csv\n",
    "import wrds"
   ],
   "cell_type": "code",
   "metadata": {},
   "execution_count": 82,
   "outputs": []
  },
  {
   "cell_type": "code",
   "execution_count": 83,
   "metadata": {},
   "outputs": [],
   "source": [
    "f = open('2010_2020_daily_CRSP.csv')\n",
    "csv_f = csv.reader(f)"
   ]
  },
  {
   "cell_type": "code",
   "execution_count": 84,
   "metadata": {},
   "outputs": [
    {
     "output_type": "stream",
     "name": "stdout",
     "text": [
      "WRDS recommends setting up a .pgpass file.\n",
      "You can find more info here:\n",
      "https://www.postgresql.org/docs/9.5/static/libpq-pgpass.html.\n",
      "Loading library list...\n",
      "Done\n"
     ]
    }
   ],
   "source": [
    "db = wrds.Connection()"
   ]
  },
  {
   "cell_type": "code",
   "execution_count": 85,
   "metadata": {},
   "outputs": [
    {
     "output_type": "execute_result",
     "data": {
      "text/plain": [
       "         date    dji\n",
       "0  1896-05-26  40.94\n",
       "1  1896-05-27  40.58\n",
       "2  1896-05-28  40.20\n",
       "3  1896-05-29  40.63\n",
       "4  1896-06-01  40.60\n",
       "5  1896-06-02  40.04\n",
       "6  1896-06-03  39.77\n",
       "7  1896-06-04  39.94\n",
       "8  1896-06-05  40.32\n",
       "9  1896-06-08  39.81"
      ],
      "text/html": "<div>\n<style scoped>\n    .dataframe tbody tr th:only-of-type {\n        vertical-align: middle;\n    }\n\n    .dataframe tbody tr th {\n        vertical-align: top;\n    }\n\n    .dataframe thead th {\n        text-align: right;\n    }\n</style>\n<table border=\"1\" class=\"dataframe\">\n  <thead>\n    <tr style=\"text-align: right;\">\n      <th></th>\n      <th>date</th>\n      <th>dji</th>\n    </tr>\n  </thead>\n  <tbody>\n    <tr>\n      <th>0</th>\n      <td>1896-05-26</td>\n      <td>40.94</td>\n    </tr>\n    <tr>\n      <th>1</th>\n      <td>1896-05-27</td>\n      <td>40.58</td>\n    </tr>\n    <tr>\n      <th>2</th>\n      <td>1896-05-28</td>\n      <td>40.20</td>\n    </tr>\n    <tr>\n      <th>3</th>\n      <td>1896-05-29</td>\n      <td>40.63</td>\n    </tr>\n    <tr>\n      <th>4</th>\n      <td>1896-06-01</td>\n      <td>40.60</td>\n    </tr>\n    <tr>\n      <th>5</th>\n      <td>1896-06-02</td>\n      <td>40.04</td>\n    </tr>\n    <tr>\n      <th>6</th>\n      <td>1896-06-03</td>\n      <td>39.77</td>\n    </tr>\n    <tr>\n      <th>7</th>\n      <td>1896-06-04</td>\n      <td>39.94</td>\n    </tr>\n    <tr>\n      <th>8</th>\n      <td>1896-06-05</td>\n      <td>40.32</td>\n    </tr>\n    <tr>\n      <th>9</th>\n      <td>1896-06-08</td>\n      <td>39.81</td>\n    </tr>\n  </tbody>\n</table>\n</div>"
     },
     "metadata": {},
     "execution_count": 85
    }
   ],
   "source": [
    "db.get_table('djones', 'djdaily', columns=['date', 'dji'], obs=10)"
   ]
  },
  {
   "source": [
    "data = db.get_row_count('djones', 'djdaily')\n",
    "data"
   ],
   "cell_type": "code",
   "metadata": {},
   "execution_count": 18,
   "outputs": [
    {
     "output_type": "execute_result",
     "data": {
      "text/plain": [
       "28003"
      ]
     },
     "metadata": {},
     "execution_count": 18
    }
   ]
  },
  {
   "cell_type": "code",
   "execution_count": 43,
   "metadata": {},
   "outputs": [
    {
     "output_type": "stream",
     "name": "stdout",
     "text": [
      "Approximately 98216170 rows in crsp.saz_ds_dly.\n"
     ]
    },
    {
     "output_type": "execute_result",
     "data": {
      "text/plain": [
       "       name  nullable              type\n",
       "0  kypermno      True  DOUBLE_PRECISION\n",
       "1     caldt      True              DATE\n",
       "2     bidlo      True  DOUBLE_PRECISION\n",
       "3     askhi      True  DOUBLE_PRECISION\n",
       "4       bid      True  DOUBLE_PRECISION\n",
       "5       ask      True  DOUBLE_PRECISION\n",
       "6    numtrd      True  DOUBLE_PRECISION\n",
       "7   openprc      True  DOUBLE_PRECISION"
      ],
      "text/html": "<div>\n<style scoped>\n    .dataframe tbody tr th:only-of-type {\n        vertical-align: middle;\n    }\n\n    .dataframe tbody tr th {\n        vertical-align: top;\n    }\n\n    .dataframe thead th {\n        text-align: right;\n    }\n</style>\n<table border=\"1\" class=\"dataframe\">\n  <thead>\n    <tr style=\"text-align: right;\">\n      <th></th>\n      <th>name</th>\n      <th>nullable</th>\n      <th>type</th>\n    </tr>\n  </thead>\n  <tbody>\n    <tr>\n      <th>0</th>\n      <td>kypermno</td>\n      <td>True</td>\n      <td>DOUBLE_PRECISION</td>\n    </tr>\n    <tr>\n      <th>1</th>\n      <td>caldt</td>\n      <td>True</td>\n      <td>DATE</td>\n    </tr>\n    <tr>\n      <th>2</th>\n      <td>bidlo</td>\n      <td>True</td>\n      <td>DOUBLE_PRECISION</td>\n    </tr>\n    <tr>\n      <th>3</th>\n      <td>askhi</td>\n      <td>True</td>\n      <td>DOUBLE_PRECISION</td>\n    </tr>\n    <tr>\n      <th>4</th>\n      <td>bid</td>\n      <td>True</td>\n      <td>DOUBLE_PRECISION</td>\n    </tr>\n    <tr>\n      <th>5</th>\n      <td>ask</td>\n      <td>True</td>\n      <td>DOUBLE_PRECISION</td>\n    </tr>\n    <tr>\n      <th>6</th>\n      <td>numtrd</td>\n      <td>True</td>\n      <td>DOUBLE_PRECISION</td>\n    </tr>\n    <tr>\n      <th>7</th>\n      <td>openprc</td>\n      <td>True</td>\n      <td>DOUBLE_PRECISION</td>\n    </tr>\n  </tbody>\n</table>\n</div>"
     },
     "metadata": {},
     "execution_count": 43
    }
   ],
   "source": [
    "#db.list_tables(library='crsp')\n",
    "#db.describe_table(library=\"crsp\", table=\"stocknames\")\n",
    "db.describe_table(library=\"crsp\", table='saz_ds_dly')"
   ]
  },
  {
   "cell_type": "code",
   "execution_count": 29,
   "metadata": {},
   "outputs": [
    {
     "output_type": "stream",
     "name": "stdout",
     "text": [
      "Help on method get_table in module wrds.sql:\n\nget_table(library, table, obs=-1, offset=0, columns=None, coerce_float=None, index_col=None, date_cols=None) method of wrds.sql.Connection instance\n    Creates a data frame from an entire table in the database.\n    \n    :param sql: SQL code in string object.\n    :param library: Postgres schema name.\n    \n    :param obs: (optional) int, default: -1\n        Specifies the number of observations to pull from the table.\n        An integer less than 0 will return the entire table.\n    :param offset: (optional) int, default: 0\n        Specifies the starting point for the query.\n        An offset of 0 will start selecting from the beginning.\n    :param columns: (optional) list or tuple, default: None\n        Specifies the columns to be included in the output data frame.\n    :param coerce_float: (optional) boolean, default: True\n        Attempt to convert values to non-string, non-numeric objects\n        to floating point. Can result in loss of precision.\n    :param date_cols: (optional) list or dict, default: None\n        - List of column names to parse as date\n        - Dict of ``{column_name: format string}``\n            where format string is\n              strftime compatible in case of parsing string times or\n              is one of (D, s, ns, ms, us) in case of parsing\n                integer timestamps\n        - Dict of ``{column_name: arg dict}``,\n            where the arg dict corresponds to the keyword arguments of\n              :func:`pandas.to_datetime`\n    :param index_col: (optional) string or list of strings,\n      default: None\n        Column(s) to set as index(MultiIndex)\n    \n    :rtype: pandas.DataFrame\n    \n    Usage ::\n    >>> data = db.get_table('wrdssec_all', 'dforms', obs=1000, columns=['cik', 'fdate', 'coname'])\n    >>> data.head()\n        cik        fdate       coname\n        0000000003 1995-02-15  DEFINED ASSET FUNDS MUNICIPAL INVT TR FD NEW Y...\n        0000000003 1996-02-14  DEFINED ASSET FUNDS MUNICIPAL INVT TR FD NEW Y...\n        0000000003 1997-02-19  DEFINED ASSET FUNDS MUNICIPAL INVT TR FD NEW Y...\n        0000000003 1998-03-02  DEFINED ASSET FUNDS MUNICIPAL INVT TR FD NEW Y...\n        0000000003 1998-03-10  DEFINED ASSET FUNDS MUNICIPAL INVT TR FD NEW Y..\n        ...\n\n"
     ]
    }
   ],
   "source": [
    "help(db.get_table)"
   ]
  },
  {
   "cell_type": "code",
   "execution_count": 87,
   "metadata": {},
   "outputs": [
    {
     "output_type": "execute_result",
     "data": {
      "text/plain": [
       "    permno  permco      namedt   nameenddt     cusip    ncusip ticker  \\\n",
       "0  10000.0  7952.0  1986-01-07  1987-06-11  68391610  68391610  OMFGA   \n",
       "1  10001.0  7953.0  1986-01-09  1993-11-21  36720410  39040610   GFGC   \n",
       "2  10001.0  7953.0  1993-11-22  2008-02-04  36720410  29274A10   EWST   \n",
       "3  10001.0  7953.0  2008-02-05  2009-08-03  36720410  29274A20   EWST   \n",
       "4  10001.0  7953.0  2009-08-04  2009-12-17  36720410  29269V10   EGAS   \n",
       "\n",
       "                      comnam  hexcd  exchcd   siccd  shrcd shrcls     st_date  \\\n",
       "0  OPTIMUM MANUFACTURING INC    3.0     3.0  3990.0   10.0      A  1986-01-31   \n",
       "1         GREAT FALLS GAS CO    2.0     3.0  4920.0   11.0   None  1986-01-31   \n",
       "2            ENERGY WEST INC    2.0     3.0  4920.0   11.0   None  1986-01-31   \n",
       "3            ENERGY WEST INC    2.0     3.0  4920.0   11.0   None  1986-01-31   \n",
       "4                 ENERGY INC    2.0     3.0  4920.0   11.0   None  1986-01-31   \n",
       "\n",
       "     end_date  namedum  \n",
       "0  1987-06-30      2.0  \n",
       "1  2017-08-31      2.0  \n",
       "2  2017-08-31      2.0  \n",
       "3  2017-08-31      2.0  \n",
       "4  2017-08-31      2.0  "
      ],
      "text/html": "<div>\n<style scoped>\n    .dataframe tbody tr th:only-of-type {\n        vertical-align: middle;\n    }\n\n    .dataframe tbody tr th {\n        vertical-align: top;\n    }\n\n    .dataframe thead th {\n        text-align: right;\n    }\n</style>\n<table border=\"1\" class=\"dataframe\">\n  <thead>\n    <tr style=\"text-align: right;\">\n      <th></th>\n      <th>permno</th>\n      <th>permco</th>\n      <th>namedt</th>\n      <th>nameenddt</th>\n      <th>cusip</th>\n      <th>ncusip</th>\n      <th>ticker</th>\n      <th>comnam</th>\n      <th>hexcd</th>\n      <th>exchcd</th>\n      <th>siccd</th>\n      <th>shrcd</th>\n      <th>shrcls</th>\n      <th>st_date</th>\n      <th>end_date</th>\n      <th>namedum</th>\n    </tr>\n  </thead>\n  <tbody>\n    <tr>\n      <th>0</th>\n      <td>10000.0</td>\n      <td>7952.0</td>\n      <td>1986-01-07</td>\n      <td>1987-06-11</td>\n      <td>68391610</td>\n      <td>68391610</td>\n      <td>OMFGA</td>\n      <td>OPTIMUM MANUFACTURING INC</td>\n      <td>3.0</td>\n      <td>3.0</td>\n      <td>3990.0</td>\n      <td>10.0</td>\n      <td>A</td>\n      <td>1986-01-31</td>\n      <td>1987-06-30</td>\n      <td>2.0</td>\n    </tr>\n    <tr>\n      <th>1</th>\n      <td>10001.0</td>\n      <td>7953.0</td>\n      <td>1986-01-09</td>\n      <td>1993-11-21</td>\n      <td>36720410</td>\n      <td>39040610</td>\n      <td>GFGC</td>\n      <td>GREAT FALLS GAS CO</td>\n      <td>2.0</td>\n      <td>3.0</td>\n      <td>4920.0</td>\n      <td>11.0</td>\n      <td>None</td>\n      <td>1986-01-31</td>\n      <td>2017-08-31</td>\n      <td>2.0</td>\n    </tr>\n    <tr>\n      <th>2</th>\n      <td>10001.0</td>\n      <td>7953.0</td>\n      <td>1993-11-22</td>\n      <td>2008-02-04</td>\n      <td>36720410</td>\n      <td>29274A10</td>\n      <td>EWST</td>\n      <td>ENERGY WEST INC</td>\n      <td>2.0</td>\n      <td>3.0</td>\n      <td>4920.0</td>\n      <td>11.0</td>\n      <td>None</td>\n      <td>1986-01-31</td>\n      <td>2017-08-31</td>\n      <td>2.0</td>\n    </tr>\n    <tr>\n      <th>3</th>\n      <td>10001.0</td>\n      <td>7953.0</td>\n      <td>2008-02-05</td>\n      <td>2009-08-03</td>\n      <td>36720410</td>\n      <td>29274A20</td>\n      <td>EWST</td>\n      <td>ENERGY WEST INC</td>\n      <td>2.0</td>\n      <td>3.0</td>\n      <td>4920.0</td>\n      <td>11.0</td>\n      <td>None</td>\n      <td>1986-01-31</td>\n      <td>2017-08-31</td>\n      <td>2.0</td>\n    </tr>\n    <tr>\n      <th>4</th>\n      <td>10001.0</td>\n      <td>7953.0</td>\n      <td>2009-08-04</td>\n      <td>2009-12-17</td>\n      <td>36720410</td>\n      <td>29269V10</td>\n      <td>EGAS</td>\n      <td>ENERGY INC</td>\n      <td>2.0</td>\n      <td>3.0</td>\n      <td>4920.0</td>\n      <td>11.0</td>\n      <td>None</td>\n      <td>1986-01-31</td>\n      <td>2017-08-31</td>\n      <td>2.0</td>\n    </tr>\n  </tbody>\n</table>\n</div>"
     },
     "metadata": {},
     "execution_count": 87
    }
   ],
   "source": [
    "stocknames = db.get_table(library='crsp', table='stocknames', obs=5)\n",
    ">>> stocknames.head()"
   ]
  },
  {
   "cell_type": "code",
   "execution_count": 73,
   "metadata": {},
   "outputs": [
    {
     "output_type": "error",
     "ename": "OperationalError",
     "evalue": "(psycopg2.OperationalError) SSL SYSCALL error: No error (0x00000000/0)\n\n(Background on this error at: http://sqlalche.me/e/14/e3q8)",
     "traceback": [
      "\u001b[1;31m---------------------------------------------------------------------------\u001b[0m",
      "\u001b[1;31mOperationalError\u001b[0m                          Traceback (most recent call last)",
      "\u001b[1;32m~\\AppData\\Local\\Programs\\Python\\Python38-32\\lib\\site-packages\\sqlalchemy\\engine\\base.py\u001b[0m in \u001b[0;36m_execute_context\u001b[1;34m(self, dialect, constructor, statement, parameters, execution_options, *args, **kw)\u001b[0m\n\u001b[0;32m   1694\u001b[0m                 \u001b[1;32mif\u001b[0m \u001b[1;32mnot\u001b[0m \u001b[0mevt_handled\u001b[0m\u001b[1;33m:\u001b[0m\u001b[1;33m\u001b[0m\u001b[1;33m\u001b[0m\u001b[0m\n\u001b[1;32m-> 1695\u001b[1;33m                     self.dialect.do_execute_no_params(\n\u001b[0m\u001b[0;32m   1696\u001b[0m                         \u001b[0mcursor\u001b[0m\u001b[1;33m,\u001b[0m \u001b[0mstatement\u001b[0m\u001b[1;33m,\u001b[0m \u001b[0mcontext\u001b[0m\u001b[1;33m\u001b[0m\u001b[1;33m\u001b[0m\u001b[0m\n",
      "\u001b[1;32m~\\AppData\\Local\\Programs\\Python\\Python38-32\\lib\\site-packages\\sqlalchemy\\engine\\default.py\u001b[0m in \u001b[0;36mdo_execute_no_params\u001b[1;34m(self, cursor, statement, context)\u001b[0m\n\u001b[0;32m    718\u001b[0m     \u001b[1;32mdef\u001b[0m \u001b[0mdo_execute_no_params\u001b[0m\u001b[1;33m(\u001b[0m\u001b[0mself\u001b[0m\u001b[1;33m,\u001b[0m \u001b[0mcursor\u001b[0m\u001b[1;33m,\u001b[0m \u001b[0mstatement\u001b[0m\u001b[1;33m,\u001b[0m \u001b[0mcontext\u001b[0m\u001b[1;33m=\u001b[0m\u001b[1;32mNone\u001b[0m\u001b[1;33m)\u001b[0m\u001b[1;33m:\u001b[0m\u001b[1;33m\u001b[0m\u001b[1;33m\u001b[0m\u001b[0m\n\u001b[1;32m--> 719\u001b[1;33m         \u001b[0mcursor\u001b[0m\u001b[1;33m.\u001b[0m\u001b[0mexecute\u001b[0m\u001b[1;33m(\u001b[0m\u001b[0mstatement\u001b[0m\u001b[1;33m)\u001b[0m\u001b[1;33m\u001b[0m\u001b[1;33m\u001b[0m\u001b[0m\n\u001b[0m\u001b[0;32m    720\u001b[0m \u001b[1;33m\u001b[0m\u001b[0m\n",
      "\u001b[1;31mOperationalError\u001b[0m: SSL SYSCALL error: No error (0x00000000/0)\n",
      "\nDuring handling of the above exception, another exception occurred:\n",
      "\u001b[1;31mOperationalError\u001b[0m                          Traceback (most recent call last)",
      "\u001b[1;32m~\\AppData\\Local\\Programs\\Python\\Python38-32\\lib\\site-packages\\sqlalchemy\\engine\\base.py\u001b[0m in \u001b[0;36m_rollback_impl\u001b[1;34m(self)\u001b[0m\n\u001b[0;32m    895\u001b[0m             \u001b[1;32mtry\u001b[0m\u001b[1;33m:\u001b[0m\u001b[1;33m\u001b[0m\u001b[1;33m\u001b[0m\u001b[0m\n\u001b[1;32m--> 896\u001b[1;33m                 \u001b[0mself\u001b[0m\u001b[1;33m.\u001b[0m\u001b[0mengine\u001b[0m\u001b[1;33m.\u001b[0m\u001b[0mdialect\u001b[0m\u001b[1;33m.\u001b[0m\u001b[0mdo_rollback\u001b[0m\u001b[1;33m(\u001b[0m\u001b[0mself\u001b[0m\u001b[1;33m.\u001b[0m\u001b[0mconnection\u001b[0m\u001b[1;33m)\u001b[0m\u001b[1;33m\u001b[0m\u001b[1;33m\u001b[0m\u001b[0m\n\u001b[0m\u001b[0;32m    897\u001b[0m             \u001b[1;32mexcept\u001b[0m \u001b[0mBaseException\u001b[0m \u001b[1;32mas\u001b[0m \u001b[0me\u001b[0m\u001b[1;33m:\u001b[0m\u001b[1;33m\u001b[0m\u001b[1;33m\u001b[0m\u001b[0m\n",
      "\u001b[1;32m~\\AppData\\Local\\Programs\\Python\\Python38-32\\lib\\site-packages\\sqlalchemy\\engine\\default.py\u001b[0m in \u001b[0;36mdo_rollback\u001b[1;34m(self, dbapi_connection)\u001b[0m\n\u001b[0;32m    665\u001b[0m     \u001b[1;32mdef\u001b[0m \u001b[0mdo_rollback\u001b[0m\u001b[1;33m(\u001b[0m\u001b[0mself\u001b[0m\u001b[1;33m,\u001b[0m \u001b[0mdbapi_connection\u001b[0m\u001b[1;33m)\u001b[0m\u001b[1;33m:\u001b[0m\u001b[1;33m\u001b[0m\u001b[1;33m\u001b[0m\u001b[0m\n\u001b[1;32m--> 666\u001b[1;33m         \u001b[0mdbapi_connection\u001b[0m\u001b[1;33m.\u001b[0m\u001b[0mrollback\u001b[0m\u001b[1;33m(\u001b[0m\u001b[1;33m)\u001b[0m\u001b[1;33m\u001b[0m\u001b[1;33m\u001b[0m\u001b[0m\n\u001b[0m\u001b[0;32m    667\u001b[0m \u001b[1;33m\u001b[0m\u001b[0m\n",
      "\u001b[1;31mOperationalError\u001b[0m: SSL SYSCALL error: No error (0x00000000/0)\n",
      "\nThe above exception was the direct cause of the following exception:\n",
      "\u001b[1;31mOperationalError\u001b[0m                          Traceback (most recent call last)",
      "\u001b[1;32m<ipython-input-73-225837a935ee>\u001b[0m in \u001b[0;36m<module>\u001b[1;34m\u001b[0m\n\u001b[1;32m----> 1\u001b[1;33m \u001b[0mstocknames\u001b[0m \u001b[1;33m=\u001b[0m \u001b[0mdb\u001b[0m\u001b[1;33m.\u001b[0m\u001b[0mget_table\u001b[0m\u001b[1;33m(\u001b[0m\u001b[0mlibrary\u001b[0m\u001b[1;33m=\u001b[0m\u001b[1;34m'crsp'\u001b[0m\u001b[1;33m,\u001b[0m \u001b[0mtable\u001b[0m\u001b[1;33m=\u001b[0m\u001b[1;34m\"stocknames\"\u001b[0m\u001b[1;33m,\u001b[0m \u001b[0mcolumns\u001b[0m\u001b[1;33m=\u001b[0m\u001b[1;33m[\u001b[0m\u001b[1;34m'permno'\u001b[0m\u001b[1;33m,\u001b[0m\u001b[1;34m'permco'\u001b[0m\u001b[1;33m,\u001b[0m\u001b[1;34m'ticker'\u001b[0m\u001b[1;33m,\u001b[0m\u001b[1;34m'comnam'\u001b[0m\u001b[1;33m]\u001b[0m\u001b[1;33m,\u001b[0m \u001b[0mobs\u001b[0m\u001b[1;33m=\u001b[0m\u001b[1;36m10\u001b[0m\u001b[1;33m)\u001b[0m\u001b[1;33m\u001b[0m\u001b[1;33m\u001b[0m\u001b[0m\n\u001b[0m\u001b[0;32m      2\u001b[0m \u001b[0mstocknames\u001b[0m\u001b[1;33m.\u001b[0m\u001b[0mhead\u001b[0m\u001b[1;33m(\u001b[0m\u001b[1;33m)\u001b[0m\u001b[1;33m\u001b[0m\u001b[1;33m\u001b[0m\u001b[0m\n",
      "\u001b[1;32m~\\AppData\\Local\\Programs\\Python\\Python38-32\\lib\\site-packages\\wrds\\sql.py\u001b[0m in \u001b[0;36mget_table\u001b[1;34m(self, library, table, obs, offset, columns, coerce_float, index_col, date_cols)\u001b[0m\n\u001b[0;32m    566\u001b[0m                        \u001b[0mobsstmt\u001b[0m\u001b[1;33m=\u001b[0m\u001b[0mobsstmt\u001b[0m\u001b[1;33m,\u001b[0m\u001b[1;33m\u001b[0m\u001b[1;33m\u001b[0m\u001b[0m\n\u001b[0;32m    567\u001b[0m                        offset=offset))\n\u001b[1;32m--> 568\u001b[1;33m             return self.raw_sql(\n\u001b[0m\u001b[0;32m    569\u001b[0m                 \u001b[0msqlstmt\u001b[0m\u001b[1;33m,\u001b[0m\u001b[1;33m\u001b[0m\u001b[1;33m\u001b[0m\u001b[0m\n\u001b[0;32m    570\u001b[0m                 \u001b[0mcoerce_float\u001b[0m\u001b[1;33m=\u001b[0m\u001b[0mcoerce_float\u001b[0m\u001b[1;33m,\u001b[0m\u001b[1;33m\u001b[0m\u001b[1;33m\u001b[0m\u001b[0m\n",
      "\u001b[1;32m~\\AppData\\Local\\Programs\\Python\\Python38-32\\lib\\site-packages\\wrds\\sql.py\u001b[0m in \u001b[0;36mraw_sql\u001b[1;34m(self, sql, coerce_float, date_cols, index_col, params)\u001b[0m\n\u001b[0;32m    493\u001b[0m         \"\"\"\n\u001b[0;32m    494\u001b[0m         \u001b[1;32mtry\u001b[0m\u001b[1;33m:\u001b[0m\u001b[1;33m\u001b[0m\u001b[1;33m\u001b[0m\u001b[0m\n\u001b[1;32m--> 495\u001b[1;33m             return pd.read_sql_query(\n\u001b[0m\u001b[0;32m    496\u001b[0m                 \u001b[0msql\u001b[0m\u001b[1;33m,\u001b[0m\u001b[1;33m\u001b[0m\u001b[1;33m\u001b[0m\u001b[0m\n\u001b[0;32m    497\u001b[0m                 \u001b[0mself\u001b[0m\u001b[1;33m.\u001b[0m\u001b[0mconnection\u001b[0m\u001b[1;33m,\u001b[0m\u001b[1;33m\u001b[0m\u001b[1;33m\u001b[0m\u001b[0m\n",
      "\u001b[1;32m~\\AppData\\Local\\Programs\\Python\\Python38-32\\lib\\site-packages\\pandas\\io\\sql.py\u001b[0m in \u001b[0;36mread_sql_query\u001b[1;34m(sql, con, index_col, coerce_float, params, parse_dates, chunksize)\u001b[0m\n\u001b[0;32m    375\u001b[0m     \"\"\"\n\u001b[0;32m    376\u001b[0m     \u001b[0mpandas_sql\u001b[0m \u001b[1;33m=\u001b[0m \u001b[0mpandasSQL_builder\u001b[0m\u001b[1;33m(\u001b[0m\u001b[0mcon\u001b[0m\u001b[1;33m)\u001b[0m\u001b[1;33m\u001b[0m\u001b[1;33m\u001b[0m\u001b[0m\n\u001b[1;32m--> 377\u001b[1;33m     return pandas_sql.read_query(\n\u001b[0m\u001b[0;32m    378\u001b[0m         \u001b[0msql\u001b[0m\u001b[1;33m,\u001b[0m\u001b[1;33m\u001b[0m\u001b[1;33m\u001b[0m\u001b[0m\n\u001b[0;32m    379\u001b[0m         \u001b[0mindex_col\u001b[0m\u001b[1;33m=\u001b[0m\u001b[0mindex_col\u001b[0m\u001b[1;33m,\u001b[0m\u001b[1;33m\u001b[0m\u001b[1;33m\u001b[0m\u001b[0m\n",
      "\u001b[1;32m~\\AppData\\Local\\Programs\\Python\\Python38-32\\lib\\site-packages\\pandas\\io\\sql.py\u001b[0m in \u001b[0;36mread_query\u001b[1;34m(self, sql, index_col, coerce_float, parse_dates, params, chunksize)\u001b[0m\n\u001b[0;32m   1293\u001b[0m         \u001b[0margs\u001b[0m \u001b[1;33m=\u001b[0m \u001b[0m_convert_params\u001b[0m\u001b[1;33m(\u001b[0m\u001b[0msql\u001b[0m\u001b[1;33m,\u001b[0m \u001b[0mparams\u001b[0m\u001b[1;33m)\u001b[0m\u001b[1;33m\u001b[0m\u001b[1;33m\u001b[0m\u001b[0m\n\u001b[0;32m   1294\u001b[0m \u001b[1;33m\u001b[0m\u001b[0m\n\u001b[1;32m-> 1295\u001b[1;33m         \u001b[0mresult\u001b[0m \u001b[1;33m=\u001b[0m \u001b[0mself\u001b[0m\u001b[1;33m.\u001b[0m\u001b[0mexecute\u001b[0m\u001b[1;33m(\u001b[0m\u001b[1;33m*\u001b[0m\u001b[0margs\u001b[0m\u001b[1;33m)\u001b[0m\u001b[1;33m\u001b[0m\u001b[1;33m\u001b[0m\u001b[0m\n\u001b[0m\u001b[0;32m   1296\u001b[0m         \u001b[0mcolumns\u001b[0m \u001b[1;33m=\u001b[0m \u001b[0mresult\u001b[0m\u001b[1;33m.\u001b[0m\u001b[0mkeys\u001b[0m\u001b[1;33m(\u001b[0m\u001b[1;33m)\u001b[0m\u001b[1;33m\u001b[0m\u001b[1;33m\u001b[0m\u001b[0m\n\u001b[0;32m   1297\u001b[0m \u001b[1;33m\u001b[0m\u001b[0m\n",
      "\u001b[1;32m~\\AppData\\Local\\Programs\\Python\\Python38-32\\lib\\site-packages\\pandas\\io\\sql.py\u001b[0m in \u001b[0;36mexecute\u001b[1;34m(self, *args, **kwargs)\u001b[0m\n\u001b[0;32m   1159\u001b[0m     \u001b[1;32mdef\u001b[0m \u001b[0mexecute\u001b[0m\u001b[1;33m(\u001b[0m\u001b[0mself\u001b[0m\u001b[1;33m,\u001b[0m \u001b[1;33m*\u001b[0m\u001b[0margs\u001b[0m\u001b[1;33m,\u001b[0m \u001b[1;33m**\u001b[0m\u001b[0mkwargs\u001b[0m\u001b[1;33m)\u001b[0m\u001b[1;33m:\u001b[0m\u001b[1;33m\u001b[0m\u001b[1;33m\u001b[0m\u001b[0m\n\u001b[0;32m   1160\u001b[0m         \u001b[1;34m\"\"\"Simple passthrough to SQLAlchemy connectable\"\"\"\u001b[0m\u001b[1;33m\u001b[0m\u001b[1;33m\u001b[0m\u001b[0m\n\u001b[1;32m-> 1161\u001b[1;33m         return self.connectable.execution_options(no_parameters=True).execute(\n\u001b[0m\u001b[0;32m   1162\u001b[0m             \u001b[1;33m*\u001b[0m\u001b[0margs\u001b[0m\u001b[1;33m,\u001b[0m \u001b[1;33m**\u001b[0m\u001b[0mkwargs\u001b[0m\u001b[1;33m\u001b[0m\u001b[1;33m\u001b[0m\u001b[0m\n\u001b[0;32m   1163\u001b[0m         )\n",
      "\u001b[1;32m~\\AppData\\Local\\Programs\\Python\\Python38-32\\lib\\site-packages\\sqlalchemy\\engine\\base.py\u001b[0m in \u001b[0;36mexecute\u001b[1;34m(self, statement, *multiparams, **params)\u001b[0m\n\u001b[0;32m   1183\u001b[0m             )\n\u001b[0;32m   1184\u001b[0m \u001b[1;33m\u001b[0m\u001b[0m\n\u001b[1;32m-> 1185\u001b[1;33m             return self._exec_driver_sql(\n\u001b[0m\u001b[0;32m   1186\u001b[0m                 \u001b[0mstatement\u001b[0m\u001b[1;33m,\u001b[0m\u001b[1;33m\u001b[0m\u001b[1;33m\u001b[0m\u001b[0m\n\u001b[0;32m   1187\u001b[0m                 \u001b[0mmultiparams\u001b[0m\u001b[1;33m,\u001b[0m\u001b[1;33m\u001b[0m\u001b[1;33m\u001b[0m\u001b[0m\n",
      "\u001b[1;32m~\\AppData\\Local\\Programs\\Python\\Python38-32\\lib\\site-packages\\sqlalchemy\\engine\\base.py\u001b[0m in \u001b[0;36m_exec_driver_sql\u001b[1;34m(self, statement, multiparams, params, execution_options, future)\u001b[0m\n\u001b[0;32m   1482\u001b[0m \u001b[1;33m\u001b[0m\u001b[0m\n\u001b[0;32m   1483\u001b[0m         \u001b[0mdialect\u001b[0m \u001b[1;33m=\u001b[0m \u001b[0mself\u001b[0m\u001b[1;33m.\u001b[0m\u001b[0mdialect\u001b[0m\u001b[1;33m\u001b[0m\u001b[1;33m\u001b[0m\u001b[0m\n\u001b[1;32m-> 1484\u001b[1;33m         ret = self._execute_context(\n\u001b[0m\u001b[0;32m   1485\u001b[0m             \u001b[0mdialect\u001b[0m\u001b[1;33m,\u001b[0m\u001b[1;33m\u001b[0m\u001b[1;33m\u001b[0m\u001b[0m\n\u001b[0;32m   1486\u001b[0m             \u001b[0mdialect\u001b[0m\u001b[1;33m.\u001b[0m\u001b[0mexecution_ctx_cls\u001b[0m\u001b[1;33m.\u001b[0m\u001b[0m_init_statement\u001b[0m\u001b[1;33m,\u001b[0m\u001b[1;33m\u001b[0m\u001b[1;33m\u001b[0m\u001b[0m\n",
      "\u001b[1;32m~\\AppData\\Local\\Programs\\Python\\Python38-32\\lib\\site-packages\\sqlalchemy\\engine\\base.py\u001b[0m in \u001b[0;36m_execute_context\u001b[1;34m(self, dialect, constructor, statement, parameters, execution_options, *args, **kw)\u001b[0m\n\u001b[0;32m   1746\u001b[0m \u001b[1;33m\u001b[0m\u001b[0m\n\u001b[0;32m   1747\u001b[0m         \u001b[1;32mexcept\u001b[0m \u001b[0mBaseException\u001b[0m \u001b[1;32mas\u001b[0m \u001b[0me\u001b[0m\u001b[1;33m:\u001b[0m\u001b[1;33m\u001b[0m\u001b[1;33m\u001b[0m\u001b[0m\n\u001b[1;32m-> 1748\u001b[1;33m             self._handle_dbapi_exception(\n\u001b[0m\u001b[0;32m   1749\u001b[0m                 \u001b[0me\u001b[0m\u001b[1;33m,\u001b[0m \u001b[0mstatement\u001b[0m\u001b[1;33m,\u001b[0m \u001b[0mparameters\u001b[0m\u001b[1;33m,\u001b[0m \u001b[0mcursor\u001b[0m\u001b[1;33m,\u001b[0m \u001b[0mcontext\u001b[0m\u001b[1;33m\u001b[0m\u001b[1;33m\u001b[0m\u001b[0m\n\u001b[0;32m   1750\u001b[0m             )\n",
      "\u001b[1;32m~\\AppData\\Local\\Programs\\Python\\Python38-32\\lib\\site-packages\\sqlalchemy\\engine\\base.py\u001b[0m in \u001b[0;36m_handle_dbapi_exception\u001b[1;34m(self, e, statement, parameters, cursor, context)\u001b[0m\n\u001b[0;32m   1922\u001b[0m                     \u001b[0mself\u001b[0m\u001b[1;33m.\u001b[0m\u001b[0m_safe_close_cursor\u001b[0m\u001b[1;33m(\u001b[0m\u001b[0mcursor\u001b[0m\u001b[1;33m)\u001b[0m\u001b[1;33m\u001b[0m\u001b[1;33m\u001b[0m\u001b[0m\n\u001b[0;32m   1923\u001b[0m                 \u001b[1;32mwith\u001b[0m \u001b[0mutil\u001b[0m\u001b[1;33m.\u001b[0m\u001b[0msafe_reraise\u001b[0m\u001b[1;33m(\u001b[0m\u001b[0mwarn_only\u001b[0m\u001b[1;33m=\u001b[0m\u001b[1;32mTrue\u001b[0m\u001b[1;33m)\u001b[0m\u001b[1;33m:\u001b[0m\u001b[1;33m\u001b[0m\u001b[1;33m\u001b[0m\u001b[0m\n\u001b[1;32m-> 1924\u001b[1;33m                     \u001b[0mself\u001b[0m\u001b[1;33m.\u001b[0m\u001b[0m_autorollback\u001b[0m\u001b[1;33m(\u001b[0m\u001b[1;33m)\u001b[0m\u001b[1;33m\u001b[0m\u001b[1;33m\u001b[0m\u001b[0m\n\u001b[0m\u001b[0;32m   1925\u001b[0m \u001b[1;33m\u001b[0m\u001b[0m\n\u001b[0;32m   1926\u001b[0m             \u001b[1;32mif\u001b[0m \u001b[0mnewraise\u001b[0m\u001b[1;33m:\u001b[0m\u001b[1;33m\u001b[0m\u001b[1;33m\u001b[0m\u001b[0m\n",
      "\u001b[1;32m~\\AppData\\Local\\Programs\\Python\\Python38-32\\lib\\site-packages\\sqlalchemy\\util\\langhelpers.py\u001b[0m in \u001b[0;36m__exit__\u001b[1;34m(self, type_, value, traceback)\u001b[0m\n\u001b[0;32m     82\u001b[0m                 )\n\u001b[0;32m     83\u001b[0m             \u001b[0mself\u001b[0m\u001b[1;33m.\u001b[0m\u001b[0m_exc_info\u001b[0m \u001b[1;33m=\u001b[0m \u001b[1;32mNone\u001b[0m  \u001b[1;31m# remove potential circular references\u001b[0m\u001b[1;33m\u001b[0m\u001b[1;33m\u001b[0m\u001b[0m\n\u001b[1;32m---> 84\u001b[1;33m             \u001b[0mcompat\u001b[0m\u001b[1;33m.\u001b[0m\u001b[0mraise_\u001b[0m\u001b[1;33m(\u001b[0m\u001b[0mvalue\u001b[0m\u001b[1;33m,\u001b[0m \u001b[0mwith_traceback\u001b[0m\u001b[1;33m=\u001b[0m\u001b[0mtraceback\u001b[0m\u001b[1;33m)\u001b[0m\u001b[1;33m\u001b[0m\u001b[1;33m\u001b[0m\u001b[0m\n\u001b[0m\u001b[0;32m     85\u001b[0m \u001b[1;33m\u001b[0m\u001b[0m\n\u001b[0;32m     86\u001b[0m \u001b[1;33m\u001b[0m\u001b[0m\n",
      "\u001b[1;32m~\\AppData\\Local\\Programs\\Python\\Python38-32\\lib\\site-packages\\sqlalchemy\\util\\compat.py\u001b[0m in \u001b[0;36mraise_\u001b[1;34m(***failed resolving arguments***)\u001b[0m\n\u001b[0;32m    209\u001b[0m \u001b[1;33m\u001b[0m\u001b[0m\n\u001b[0;32m    210\u001b[0m         \u001b[1;32mtry\u001b[0m\u001b[1;33m:\u001b[0m\u001b[1;33m\u001b[0m\u001b[1;33m\u001b[0m\u001b[0m\n\u001b[1;32m--> 211\u001b[1;33m             \u001b[1;32mraise\u001b[0m \u001b[0mexception\u001b[0m\u001b[1;33m\u001b[0m\u001b[1;33m\u001b[0m\u001b[0m\n\u001b[0m\u001b[0;32m    212\u001b[0m         \u001b[1;32mfinally\u001b[0m\u001b[1;33m:\u001b[0m\u001b[1;33m\u001b[0m\u001b[1;33m\u001b[0m\u001b[0m\n\u001b[0;32m    213\u001b[0m             \u001b[1;31m# credit to\u001b[0m\u001b[1;33m\u001b[0m\u001b[1;33m\u001b[0m\u001b[1;33m\u001b[0m\u001b[0m\n",
      "\u001b[1;32m~\\AppData\\Local\\Programs\\Python\\Python38-32\\lib\\site-packages\\sqlalchemy\\engine\\base.py\u001b[0m in \u001b[0;36m_handle_dbapi_exception\u001b[1;34m(self, e, statement, parameters, cursor, context)\u001b[0m\n\u001b[0;32m   1922\u001b[0m                     \u001b[0mself\u001b[0m\u001b[1;33m.\u001b[0m\u001b[0m_safe_close_cursor\u001b[0m\u001b[1;33m(\u001b[0m\u001b[0mcursor\u001b[0m\u001b[1;33m)\u001b[0m\u001b[1;33m\u001b[0m\u001b[1;33m\u001b[0m\u001b[0m\n\u001b[0;32m   1923\u001b[0m                 \u001b[1;32mwith\u001b[0m \u001b[0mutil\u001b[0m\u001b[1;33m.\u001b[0m\u001b[0msafe_reraise\u001b[0m\u001b[1;33m(\u001b[0m\u001b[0mwarn_only\u001b[0m\u001b[1;33m=\u001b[0m\u001b[1;32mTrue\u001b[0m\u001b[1;33m)\u001b[0m\u001b[1;33m:\u001b[0m\u001b[1;33m\u001b[0m\u001b[1;33m\u001b[0m\u001b[0m\n\u001b[1;32m-> 1924\u001b[1;33m                     \u001b[0mself\u001b[0m\u001b[1;33m.\u001b[0m\u001b[0m_autorollback\u001b[0m\u001b[1;33m(\u001b[0m\u001b[1;33m)\u001b[0m\u001b[1;33m\u001b[0m\u001b[1;33m\u001b[0m\u001b[0m\n\u001b[0m\u001b[0;32m   1925\u001b[0m \u001b[1;33m\u001b[0m\u001b[0m\n\u001b[0;32m   1926\u001b[0m             \u001b[1;32mif\u001b[0m \u001b[0mnewraise\u001b[0m\u001b[1;33m:\u001b[0m\u001b[1;33m\u001b[0m\u001b[1;33m\u001b[0m\u001b[0m\n",
      "\u001b[1;32m~\\AppData\\Local\\Programs\\Python\\Python38-32\\lib\\site-packages\\sqlalchemy\\engine\\base.py\u001b[0m in \u001b[0;36m_autorollback\u001b[1;34m(self)\u001b[0m\n\u001b[0;32m   1024\u001b[0m \u001b[1;33m\u001b[0m\u001b[0m\n\u001b[0;32m   1025\u001b[0m         \u001b[1;32mif\u001b[0m \u001b[1;32mnot\u001b[0m \u001b[0mself\u001b[0m\u001b[1;33m.\u001b[0m\u001b[0min_transaction\u001b[0m\u001b[1;33m(\u001b[0m\u001b[1;33m)\u001b[0m\u001b[1;33m:\u001b[0m\u001b[1;33m\u001b[0m\u001b[1;33m\u001b[0m\u001b[0m\n\u001b[1;32m-> 1026\u001b[1;33m             \u001b[0mself\u001b[0m\u001b[1;33m.\u001b[0m\u001b[0m_rollback_impl\u001b[0m\u001b[1;33m(\u001b[0m\u001b[1;33m)\u001b[0m\u001b[1;33m\u001b[0m\u001b[1;33m\u001b[0m\u001b[0m\n\u001b[0m\u001b[0;32m   1027\u001b[0m \u001b[1;33m\u001b[0m\u001b[0m\n\u001b[0;32m   1028\u001b[0m     \u001b[1;32mdef\u001b[0m \u001b[0m_warn_for_legacy_exec_format\u001b[0m\u001b[1;33m(\u001b[0m\u001b[0mself\u001b[0m\u001b[1;33m)\u001b[0m\u001b[1;33m:\u001b[0m\u001b[1;33m\u001b[0m\u001b[1;33m\u001b[0m\u001b[0m\n",
      "\u001b[1;32m~\\AppData\\Local\\Programs\\Python\\Python38-32\\lib\\site-packages\\sqlalchemy\\engine\\base.py\u001b[0m in \u001b[0;36m_rollback_impl\u001b[1;34m(self)\u001b[0m\n\u001b[0;32m    896\u001b[0m                 \u001b[0mself\u001b[0m\u001b[1;33m.\u001b[0m\u001b[0mengine\u001b[0m\u001b[1;33m.\u001b[0m\u001b[0mdialect\u001b[0m\u001b[1;33m.\u001b[0m\u001b[0mdo_rollback\u001b[0m\u001b[1;33m(\u001b[0m\u001b[0mself\u001b[0m\u001b[1;33m.\u001b[0m\u001b[0mconnection\u001b[0m\u001b[1;33m)\u001b[0m\u001b[1;33m\u001b[0m\u001b[1;33m\u001b[0m\u001b[0m\n\u001b[0;32m    897\u001b[0m             \u001b[1;32mexcept\u001b[0m \u001b[0mBaseException\u001b[0m \u001b[1;32mas\u001b[0m \u001b[0me\u001b[0m\u001b[1;33m:\u001b[0m\u001b[1;33m\u001b[0m\u001b[1;33m\u001b[0m\u001b[0m\n\u001b[1;32m--> 898\u001b[1;33m                 \u001b[0mself\u001b[0m\u001b[1;33m.\u001b[0m\u001b[0m_handle_dbapi_exception\u001b[0m\u001b[1;33m(\u001b[0m\u001b[0me\u001b[0m\u001b[1;33m,\u001b[0m \u001b[1;32mNone\u001b[0m\u001b[1;33m,\u001b[0m \u001b[1;32mNone\u001b[0m\u001b[1;33m,\u001b[0m \u001b[1;32mNone\u001b[0m\u001b[1;33m,\u001b[0m \u001b[1;32mNone\u001b[0m\u001b[1;33m)\u001b[0m\u001b[1;33m\u001b[0m\u001b[1;33m\u001b[0m\u001b[0m\n\u001b[0m\u001b[0;32m    899\u001b[0m \u001b[1;33m\u001b[0m\u001b[0m\n\u001b[0;32m    900\u001b[0m     \u001b[1;32mdef\u001b[0m \u001b[0m_commit_impl\u001b[0m\u001b[1;33m(\u001b[0m\u001b[0mself\u001b[0m\u001b[1;33m,\u001b[0m \u001b[0mautocommit\u001b[0m\u001b[1;33m=\u001b[0m\u001b[1;32mFalse\u001b[0m\u001b[1;33m)\u001b[0m\u001b[1;33m:\u001b[0m\u001b[1;33m\u001b[0m\u001b[1;33m\u001b[0m\u001b[0m\n",
      "\u001b[1;32m~\\AppData\\Local\\Programs\\Python\\Python38-32\\lib\\site-packages\\sqlalchemy\\engine\\base.py\u001b[0m in \u001b[0;36m_handle_dbapi_exception\u001b[1;34m(self, e, statement, parameters, cursor, context)\u001b[0m\n\u001b[0;32m   1829\u001b[0m \u001b[1;33m\u001b[0m\u001b[0m\n\u001b[0;32m   1830\u001b[0m         \u001b[1;32mif\u001b[0m \u001b[0mself\u001b[0m\u001b[1;33m.\u001b[0m\u001b[0m_reentrant_error\u001b[0m\u001b[1;33m:\u001b[0m\u001b[1;33m\u001b[0m\u001b[1;33m\u001b[0m\u001b[0m\n\u001b[1;32m-> 1831\u001b[1;33m             util.raise_(\n\u001b[0m\u001b[0;32m   1832\u001b[0m                 exc.DBAPIError.instance(\n\u001b[0;32m   1833\u001b[0m                     \u001b[0mstatement\u001b[0m\u001b[1;33m,\u001b[0m\u001b[1;33m\u001b[0m\u001b[1;33m\u001b[0m\u001b[0m\n",
      "\u001b[1;32m~\\AppData\\Local\\Programs\\Python\\Python38-32\\lib\\site-packages\\sqlalchemy\\util\\compat.py\u001b[0m in \u001b[0;36mraise_\u001b[1;34m(***failed resolving arguments***)\u001b[0m\n\u001b[0;32m    209\u001b[0m \u001b[1;33m\u001b[0m\u001b[0m\n\u001b[0;32m    210\u001b[0m         \u001b[1;32mtry\u001b[0m\u001b[1;33m:\u001b[0m\u001b[1;33m\u001b[0m\u001b[1;33m\u001b[0m\u001b[0m\n\u001b[1;32m--> 211\u001b[1;33m             \u001b[1;32mraise\u001b[0m \u001b[0mexception\u001b[0m\u001b[1;33m\u001b[0m\u001b[1;33m\u001b[0m\u001b[0m\n\u001b[0m\u001b[0;32m    212\u001b[0m         \u001b[1;32mfinally\u001b[0m\u001b[1;33m:\u001b[0m\u001b[1;33m\u001b[0m\u001b[1;33m\u001b[0m\u001b[0m\n\u001b[0;32m    213\u001b[0m             \u001b[1;31m# credit to\u001b[0m\u001b[1;33m\u001b[0m\u001b[1;33m\u001b[0m\u001b[1;33m\u001b[0m\u001b[0m\n",
      "\u001b[1;32m~\\AppData\\Local\\Programs\\Python\\Python38-32\\lib\\site-packages\\sqlalchemy\\engine\\base.py\u001b[0m in \u001b[0;36m_rollback_impl\u001b[1;34m(self)\u001b[0m\n\u001b[0;32m    894\u001b[0m                     \u001b[0mself\u001b[0m\u001b[1;33m.\u001b[0m\u001b[0m_log_info\u001b[0m\u001b[1;33m(\u001b[0m\u001b[1;34m\"ROLLBACK\"\u001b[0m\u001b[1;33m)\u001b[0m\u001b[1;33m\u001b[0m\u001b[1;33m\u001b[0m\u001b[0m\n\u001b[0;32m    895\u001b[0m             \u001b[1;32mtry\u001b[0m\u001b[1;33m:\u001b[0m\u001b[1;33m\u001b[0m\u001b[1;33m\u001b[0m\u001b[0m\n\u001b[1;32m--> 896\u001b[1;33m                 \u001b[0mself\u001b[0m\u001b[1;33m.\u001b[0m\u001b[0mengine\u001b[0m\u001b[1;33m.\u001b[0m\u001b[0mdialect\u001b[0m\u001b[1;33m.\u001b[0m\u001b[0mdo_rollback\u001b[0m\u001b[1;33m(\u001b[0m\u001b[0mself\u001b[0m\u001b[1;33m.\u001b[0m\u001b[0mconnection\u001b[0m\u001b[1;33m)\u001b[0m\u001b[1;33m\u001b[0m\u001b[1;33m\u001b[0m\u001b[0m\n\u001b[0m\u001b[0;32m    897\u001b[0m             \u001b[1;32mexcept\u001b[0m \u001b[0mBaseException\u001b[0m \u001b[1;32mas\u001b[0m \u001b[0me\u001b[0m\u001b[1;33m:\u001b[0m\u001b[1;33m\u001b[0m\u001b[1;33m\u001b[0m\u001b[0m\n\u001b[0;32m    898\u001b[0m                 \u001b[0mself\u001b[0m\u001b[1;33m.\u001b[0m\u001b[0m_handle_dbapi_exception\u001b[0m\u001b[1;33m(\u001b[0m\u001b[0me\u001b[0m\u001b[1;33m,\u001b[0m \u001b[1;32mNone\u001b[0m\u001b[1;33m,\u001b[0m \u001b[1;32mNone\u001b[0m\u001b[1;33m,\u001b[0m \u001b[1;32mNone\u001b[0m\u001b[1;33m,\u001b[0m \u001b[1;32mNone\u001b[0m\u001b[1;33m)\u001b[0m\u001b[1;33m\u001b[0m\u001b[1;33m\u001b[0m\u001b[0m\n",
      "\u001b[1;32m~\\AppData\\Local\\Programs\\Python\\Python38-32\\lib\\site-packages\\sqlalchemy\\engine\\default.py\u001b[0m in \u001b[0;36mdo_rollback\u001b[1;34m(self, dbapi_connection)\u001b[0m\n\u001b[0;32m    664\u001b[0m \u001b[1;33m\u001b[0m\u001b[0m\n\u001b[0;32m    665\u001b[0m     \u001b[1;32mdef\u001b[0m \u001b[0mdo_rollback\u001b[0m\u001b[1;33m(\u001b[0m\u001b[0mself\u001b[0m\u001b[1;33m,\u001b[0m \u001b[0mdbapi_connection\u001b[0m\u001b[1;33m)\u001b[0m\u001b[1;33m:\u001b[0m\u001b[1;33m\u001b[0m\u001b[1;33m\u001b[0m\u001b[0m\n\u001b[1;32m--> 666\u001b[1;33m         \u001b[0mdbapi_connection\u001b[0m\u001b[1;33m.\u001b[0m\u001b[0mrollback\u001b[0m\u001b[1;33m(\u001b[0m\u001b[1;33m)\u001b[0m\u001b[1;33m\u001b[0m\u001b[1;33m\u001b[0m\u001b[0m\n\u001b[0m\u001b[0;32m    667\u001b[0m \u001b[1;33m\u001b[0m\u001b[0m\n\u001b[0;32m    668\u001b[0m     \u001b[1;32mdef\u001b[0m \u001b[0mdo_commit\u001b[0m\u001b[1;33m(\u001b[0m\u001b[0mself\u001b[0m\u001b[1;33m,\u001b[0m \u001b[0mdbapi_connection\u001b[0m\u001b[1;33m)\u001b[0m\u001b[1;33m:\u001b[0m\u001b[1;33m\u001b[0m\u001b[1;33m\u001b[0m\u001b[0m\n",
      "\u001b[1;31mOperationalError\u001b[0m: (psycopg2.OperationalError) SSL SYSCALL error: No error (0x00000000/0)\n\n(Background on this error at: http://sqlalche.me/e/14/e3q8)"
     ]
    }
   ],
   "source": [
    "stocknames = db.get_table(library='crsp', table=\"stocknames\", columns=['permno','permco','ticker','comnam'], obs=10)\n",
    ">>> stocknames.head()"
   ]
  },
  {
   "cell_type": "code",
   "execution_count": 88,
   "metadata": {},
   "outputs": [],
   "source": [
    "stocknames = db.get_table(library=\"crsp\", table='saz_ds_dly', columns=['KYPERMNO','CALDT','BIDLO','ASKHI','BID','ASK'], obs=10)\n"
   ]
  },
  {
   "cell_type": "code",
   "execution_count": 89,
   "metadata": {},
   "outputs": [
    {
     "output_type": "execute_result",
     "data": {
      "text/plain": [
       "   kypermno       caldt  bidlo  askhi   bid   ask\n",
       "0   10000.0  1986-01-07  2.375  2.750  None  None\n",
       "1   10000.0  1986-01-08  2.375  2.625  None  None\n",
       "2   10000.0  1986-01-09  2.375  2.625  None  None\n",
       "3   10000.0  1986-01-10  2.375  2.625  None  None\n",
       "4   10000.0  1986-01-13  2.500  2.750  None  None"
      ],
      "text/html": "<div>\n<style scoped>\n    .dataframe tbody tr th:only-of-type {\n        vertical-align: middle;\n    }\n\n    .dataframe tbody tr th {\n        vertical-align: top;\n    }\n\n    .dataframe thead th {\n        text-align: right;\n    }\n</style>\n<table border=\"1\" class=\"dataframe\">\n  <thead>\n    <tr style=\"text-align: right;\">\n      <th></th>\n      <th>kypermno</th>\n      <th>caldt</th>\n      <th>bidlo</th>\n      <th>askhi</th>\n      <th>bid</th>\n      <th>ask</th>\n    </tr>\n  </thead>\n  <tbody>\n    <tr>\n      <th>0</th>\n      <td>10000.0</td>\n      <td>1986-01-07</td>\n      <td>2.375</td>\n      <td>2.750</td>\n      <td>None</td>\n      <td>None</td>\n    </tr>\n    <tr>\n      <th>1</th>\n      <td>10000.0</td>\n      <td>1986-01-08</td>\n      <td>2.375</td>\n      <td>2.625</td>\n      <td>None</td>\n      <td>None</td>\n    </tr>\n    <tr>\n      <th>2</th>\n      <td>10000.0</td>\n      <td>1986-01-09</td>\n      <td>2.375</td>\n      <td>2.625</td>\n      <td>None</td>\n      <td>None</td>\n    </tr>\n    <tr>\n      <th>3</th>\n      <td>10000.0</td>\n      <td>1986-01-10</td>\n      <td>2.375</td>\n      <td>2.625</td>\n      <td>None</td>\n      <td>None</td>\n    </tr>\n    <tr>\n      <th>4</th>\n      <td>10000.0</td>\n      <td>1986-01-13</td>\n      <td>2.500</td>\n      <td>2.750</td>\n      <td>None</td>\n      <td>None</td>\n    </tr>\n  </tbody>\n</table>\n</div>"
     },
     "metadata": {},
     "execution_count": 89
    }
   ],
   "source": [
    "stocknames.head()"
   ]
  },
  {
   "cell_type": "code",
   "execution_count": 90,
   "metadata": {},
   "outputs": [
    {
     "output_type": "execute_result",
     "data": {
      "text/plain": [
       "   kypermno       caldt  bidlo  askhi   bid   ask numtrd openprc\n",
       "0   10000.0  1986-01-07  2.375  2.750  None  None   None    None\n",
       "1   10000.0  1986-01-08  2.375  2.625  None  None   None    None\n",
       "2   10000.0  1986-01-09  2.375  2.625  None  None   None    None\n",
       "3   10000.0  1986-01-10  2.375  2.625  None  None   None    None\n",
       "4   10000.0  1986-01-13  2.500  2.750  None  None   None    None"
      ],
      "text/html": "<div>\n<style scoped>\n    .dataframe tbody tr th:only-of-type {\n        vertical-align: middle;\n    }\n\n    .dataframe tbody tr th {\n        vertical-align: top;\n    }\n\n    .dataframe thead th {\n        text-align: right;\n    }\n</style>\n<table border=\"1\" class=\"dataframe\">\n  <thead>\n    <tr style=\"text-align: right;\">\n      <th></th>\n      <th>kypermno</th>\n      <th>caldt</th>\n      <th>bidlo</th>\n      <th>askhi</th>\n      <th>bid</th>\n      <th>ask</th>\n      <th>numtrd</th>\n      <th>openprc</th>\n    </tr>\n  </thead>\n  <tbody>\n    <tr>\n      <th>0</th>\n      <td>10000.0</td>\n      <td>1986-01-07</td>\n      <td>2.375</td>\n      <td>2.750</td>\n      <td>None</td>\n      <td>None</td>\n      <td>None</td>\n      <td>None</td>\n    </tr>\n    <tr>\n      <th>1</th>\n      <td>10000.0</td>\n      <td>1986-01-08</td>\n      <td>2.375</td>\n      <td>2.625</td>\n      <td>None</td>\n      <td>None</td>\n      <td>None</td>\n      <td>None</td>\n    </tr>\n    <tr>\n      <th>2</th>\n      <td>10000.0</td>\n      <td>1986-01-09</td>\n      <td>2.375</td>\n      <td>2.625</td>\n      <td>None</td>\n      <td>None</td>\n      <td>None</td>\n      <td>None</td>\n    </tr>\n    <tr>\n      <th>3</th>\n      <td>10000.0</td>\n      <td>1986-01-10</td>\n      <td>2.375</td>\n      <td>2.625</td>\n      <td>None</td>\n      <td>None</td>\n      <td>None</td>\n      <td>None</td>\n    </tr>\n    <tr>\n      <th>4</th>\n      <td>10000.0</td>\n      <td>1986-01-13</td>\n      <td>2.500</td>\n      <td>2.750</td>\n      <td>None</td>\n      <td>None</td>\n      <td>None</td>\n      <td>None</td>\n    </tr>\n  </tbody>\n</table>\n</div>"
     },
     "metadata": {},
     "execution_count": 90
    }
   ],
   "source": [
    "stocknames = db.get_table(library=\"crsp\", table='saz_ds_dly', obs=10)\n",
    "stocknames.head()"
   ]
  },
  {
   "cell_type": "code",
   "execution_count": 131,
   "metadata": {},
   "outputs": [
    {
     "output_type": "execute_result",
     "data": {
      "text/plain": [
       "   kypermno       caldt  bidlo  askhi  bid  ask  numtrd openprc     prc  \\\n",
       "0   10000.0  1986-01-07  2.375  2.750  NaN  NaN     NaN    None -2.5625   \n",
       "1   10000.0  1986-01-08  2.375  2.625  NaN  NaN     NaN    None -2.5000   \n",
       "2   10000.0  1986-01-09  2.375  2.625  NaN  NaN     NaN    None -2.5000   \n",
       "3   10000.0  1986-01-10  2.375  2.625  NaN  NaN     NaN    None -2.5000   \n",
       "4   10000.0  1986-01-13  2.500  2.750  NaN  NaN     NaN    None -2.6250   \n",
       "\n",
       "       ret     retx    tcap      vol  \n",
       "0      NaN      NaN  9430.0   1000.0  \n",
       "1 -0.02439 -0.02439  9200.0  12800.0  \n",
       "2  0.00000  0.00000  9200.0   1400.0  \n",
       "3  0.00000  0.00000  9200.0   8500.0  \n",
       "4  0.05000  0.05000  9660.0   5450.0  "
      ],
      "text/html": "<div>\n<style scoped>\n    .dataframe tbody tr th:only-of-type {\n        vertical-align: middle;\n    }\n\n    .dataframe tbody tr th {\n        vertical-align: top;\n    }\n\n    .dataframe thead th {\n        text-align: right;\n    }\n</style>\n<table border=\"1\" class=\"dataframe\">\n  <thead>\n    <tr style=\"text-align: right;\">\n      <th></th>\n      <th>kypermno</th>\n      <th>caldt</th>\n      <th>bidlo</th>\n      <th>askhi</th>\n      <th>bid</th>\n      <th>ask</th>\n      <th>numtrd</th>\n      <th>openprc</th>\n      <th>prc</th>\n      <th>ret</th>\n      <th>retx</th>\n      <th>tcap</th>\n      <th>vol</th>\n    </tr>\n  </thead>\n  <tbody>\n    <tr>\n      <th>0</th>\n      <td>10000.0</td>\n      <td>1986-01-07</td>\n      <td>2.375</td>\n      <td>2.750</td>\n      <td>NaN</td>\n      <td>NaN</td>\n      <td>NaN</td>\n      <td>None</td>\n      <td>-2.5625</td>\n      <td>NaN</td>\n      <td>NaN</td>\n      <td>9430.0</td>\n      <td>1000.0</td>\n    </tr>\n    <tr>\n      <th>1</th>\n      <td>10000.0</td>\n      <td>1986-01-08</td>\n      <td>2.375</td>\n      <td>2.625</td>\n      <td>NaN</td>\n      <td>NaN</td>\n      <td>NaN</td>\n      <td>None</td>\n      <td>-2.5000</td>\n      <td>-0.02439</td>\n      <td>-0.02439</td>\n      <td>9200.0</td>\n      <td>12800.0</td>\n    </tr>\n    <tr>\n      <th>2</th>\n      <td>10000.0</td>\n      <td>1986-01-09</td>\n      <td>2.375</td>\n      <td>2.625</td>\n      <td>NaN</td>\n      <td>NaN</td>\n      <td>NaN</td>\n      <td>None</td>\n      <td>-2.5000</td>\n      <td>0.00000</td>\n      <td>0.00000</td>\n      <td>9200.0</td>\n      <td>1400.0</td>\n    </tr>\n    <tr>\n      <th>3</th>\n      <td>10000.0</td>\n      <td>1986-01-10</td>\n      <td>2.375</td>\n      <td>2.625</td>\n      <td>NaN</td>\n      <td>NaN</td>\n      <td>NaN</td>\n      <td>None</td>\n      <td>-2.5000</td>\n      <td>0.00000</td>\n      <td>0.00000</td>\n      <td>9200.0</td>\n      <td>8500.0</td>\n    </tr>\n    <tr>\n      <th>4</th>\n      <td>10000.0</td>\n      <td>1986-01-13</td>\n      <td>2.500</td>\n      <td>2.750</td>\n      <td>NaN</td>\n      <td>NaN</td>\n      <td>NaN</td>\n      <td>None</td>\n      <td>-2.6250</td>\n      <td>0.05000</td>\n      <td>0.05000</td>\n      <td>9660.0</td>\n      <td>5450.0</td>\n    </tr>\n  </tbody>\n</table>\n</div>"
     },
     "metadata": {},
     "execution_count": 131
    }
   ],
   "source": [
    "dly1 = db.get_table(library=\"crsp\", table='saz_ds_dly', obs=1000)\n",
    "dly2 = db.get_table(library=\"crsp\", table='saz_dp_dly',obs=1000)\n",
    "dly3 = pd.merge(dly1, dly2, on=[\"kypermno\", \"caldt\"])\n",
    "dly3.head()"
   ]
  },
  {
   "cell_type": "code",
   "execution_count": 132,
   "metadata": {},
   "outputs": [
    {
     "output_type": "execute_result",
     "data": {
      "text/plain": [
       "     kypermno       caldt  bidlo  askhi   bid   ask  numtrd openprc      vol\n",
       "0     10000.0  1986-01-07  2.375  2.750   NaN   NaN     NaN    None   1000.0\n",
       "1     10000.0  1986-01-08  2.375  2.625   NaN   NaN     NaN    None  12800.0\n",
       "2     10000.0  1986-01-09  2.375  2.625   NaN   NaN     NaN    None   1400.0\n",
       "3     10000.0  1986-01-10  2.375  2.625   NaN   NaN     NaN    None   8500.0\n",
       "4     10000.0  1986-01-13  2.500  2.750   NaN   NaN     NaN    None   5450.0\n",
       "..        ...         ...    ...    ...   ...   ...     ...     ...      ...\n",
       "995   10001.0  1988-07-12  6.250  6.250  6.25  6.75     1.0    None    300.0\n",
       "996   10001.0  1988-07-13  6.250  6.750  6.25  6.75     0.0    None      0.0\n",
       "997   10001.0  1988-07-14  6.250  6.750  6.25  6.75     0.0    None      0.0\n",
       "998   10001.0  1988-07-15  6.250  6.750  6.25  6.75     0.0    None      0.0\n",
       "999   10001.0  1988-07-18  6.250  6.250  6.25  6.75     1.0    None    107.0\n",
       "\n",
       "[1000 rows x 9 columns]"
      ],
      "text/html": "<div>\n<style scoped>\n    .dataframe tbody tr th:only-of-type {\n        vertical-align: middle;\n    }\n\n    .dataframe tbody tr th {\n        vertical-align: top;\n    }\n\n    .dataframe thead th {\n        text-align: right;\n    }\n</style>\n<table border=\"1\" class=\"dataframe\">\n  <thead>\n    <tr style=\"text-align: right;\">\n      <th></th>\n      <th>kypermno</th>\n      <th>caldt</th>\n      <th>bidlo</th>\n      <th>askhi</th>\n      <th>bid</th>\n      <th>ask</th>\n      <th>numtrd</th>\n      <th>openprc</th>\n      <th>vol</th>\n    </tr>\n  </thead>\n  <tbody>\n    <tr>\n      <th>0</th>\n      <td>10000.0</td>\n      <td>1986-01-07</td>\n      <td>2.375</td>\n      <td>2.750</td>\n      <td>NaN</td>\n      <td>NaN</td>\n      <td>NaN</td>\n      <td>None</td>\n      <td>1000.0</td>\n    </tr>\n    <tr>\n      <th>1</th>\n      <td>10000.0</td>\n      <td>1986-01-08</td>\n      <td>2.375</td>\n      <td>2.625</td>\n      <td>NaN</td>\n      <td>NaN</td>\n      <td>NaN</td>\n      <td>None</td>\n      <td>12800.0</td>\n    </tr>\n    <tr>\n      <th>2</th>\n      <td>10000.0</td>\n      <td>1986-01-09</td>\n      <td>2.375</td>\n      <td>2.625</td>\n      <td>NaN</td>\n      <td>NaN</td>\n      <td>NaN</td>\n      <td>None</td>\n      <td>1400.0</td>\n    </tr>\n    <tr>\n      <th>3</th>\n      <td>10000.0</td>\n      <td>1986-01-10</td>\n      <td>2.375</td>\n      <td>2.625</td>\n      <td>NaN</td>\n      <td>NaN</td>\n      <td>NaN</td>\n      <td>None</td>\n      <td>8500.0</td>\n    </tr>\n    <tr>\n      <th>4</th>\n      <td>10000.0</td>\n      <td>1986-01-13</td>\n      <td>2.500</td>\n      <td>2.750</td>\n      <td>NaN</td>\n      <td>NaN</td>\n      <td>NaN</td>\n      <td>None</td>\n      <td>5450.0</td>\n    </tr>\n    <tr>\n      <th>...</th>\n      <td>...</td>\n      <td>...</td>\n      <td>...</td>\n      <td>...</td>\n      <td>...</td>\n      <td>...</td>\n      <td>...</td>\n      <td>...</td>\n      <td>...</td>\n    </tr>\n    <tr>\n      <th>995</th>\n      <td>10001.0</td>\n      <td>1988-07-12</td>\n      <td>6.250</td>\n      <td>6.250</td>\n      <td>6.25</td>\n      <td>6.75</td>\n      <td>1.0</td>\n      <td>None</td>\n      <td>300.0</td>\n    </tr>\n    <tr>\n      <th>996</th>\n      <td>10001.0</td>\n      <td>1988-07-13</td>\n      <td>6.250</td>\n      <td>6.750</td>\n      <td>6.25</td>\n      <td>6.75</td>\n      <td>0.0</td>\n      <td>None</td>\n      <td>0.0</td>\n    </tr>\n    <tr>\n      <th>997</th>\n      <td>10001.0</td>\n      <td>1988-07-14</td>\n      <td>6.250</td>\n      <td>6.750</td>\n      <td>6.25</td>\n      <td>6.75</td>\n      <td>0.0</td>\n      <td>None</td>\n      <td>0.0</td>\n    </tr>\n    <tr>\n      <th>998</th>\n      <td>10001.0</td>\n      <td>1988-07-15</td>\n      <td>6.250</td>\n      <td>6.750</td>\n      <td>6.25</td>\n      <td>6.75</td>\n      <td>0.0</td>\n      <td>None</td>\n      <td>0.0</td>\n    </tr>\n    <tr>\n      <th>999</th>\n      <td>10001.0</td>\n      <td>1988-07-18</td>\n      <td>6.250</td>\n      <td>6.250</td>\n      <td>6.25</td>\n      <td>6.75</td>\n      <td>1.0</td>\n      <td>None</td>\n      <td>107.0</td>\n    </tr>\n  </tbody>\n</table>\n<p>1000 rows × 9 columns</p>\n</div>"
     },
     "metadata": {},
     "execution_count": 132
    }
   ],
   "source": [
    "dly3.drop(columns=['prc','ret','retx','tcap'])"
   ]
  },
  {
   "cell_type": "code",
   "execution_count": 133,
   "metadata": {},
   "outputs": [],
   "source": [
    "for row in dly3.itertuples():\n",
    "    permno = row.kypermno*1\n",
    "    dly3.to_csv(str(permno)+'.csv', index = False)"
   ]
  },
  {
   "cell_type": "code",
   "execution_count": 150,
   "metadata": {},
   "outputs": [
    {
     "output_type": "execute_result",
     "data": {
      "text/plain": [
       "array([10000., 10001.])"
      ]
     },
     "metadata": {},
     "execution_count": 150
    }
   ],
   "source": [
    "df['kypermno'].unique()"
   ]
  },
  {
   "cell_type": "code",
   "execution_count": 147,
   "metadata": {},
   "outputs": [],
   "source": [
    "df=dly3"
   ]
  },
  {
   "cell_type": "code",
   "execution_count": 151,
   "metadata": {},
   "outputs": [],
   "source": [
    "for permco in df['kypermno'].unique():\n",
    "    sub_df = df[df['kypermno'] == permco]\n",
    "    sub_df.to_csv(f'{permco}.csv', index=False)"
   ]
  },
  {
   "cell_type": "code",
   "execution_count": 152,
   "metadata": {},
   "outputs": [],
   "source": [
    "df['prc'].plot()"
   ]
  },
  {
   "cell_type": "code",
   "execution_count": null,
   "metadata": {},
   "outputs": [],
   "source": []
  }
 ]
}